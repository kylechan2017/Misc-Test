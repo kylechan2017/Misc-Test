{
 "cells": [
  {
   "cell_type": "code",
   "execution_count": 2,
   "metadata": {
    "jupyter": {
     "source_hidden": true
    }
   },
   "outputs": [],
   "source": [
    "import glue_definitions_job"
   ]
  },
  {
   "cell_type": "code",
   "execution_count": 6,
   "metadata": {},
   "outputs": [
    {
     "name": "stdout",
     "output_type": "stream",
     "text": [
      "\n",
      "Product Sales\n",
      "Definition: (Disambiguation: the product sales here is referring to a metric\n",
      "while there is also a production table called product sales). Price x quantity\n",
      "of order items. Excludes gift cards and replacement orders.\n",
      "\n",
      "Timing: Recognized when an order is authorized.\n",
      "\n",
      "\n"
     ]
    }
   ],
   "source": [
    "for table, info_dictionary in glue_definitions_job.definitions_dictionary.items():\n",
    "    print(info_dictionary['definition'])"
   ]
  },
  {
   "cell_type": "code",
   "execution_count": null,
   "metadata": {
    "jupyter": {
     "source_hidden": true
    }
   },
   "outputs": [],
   "source": []
  }
 ],
 "metadata": {
  "kernelspec": {
   "display_name": "Python 3",
   "language": "python",
   "name": "python3"
  },
  "language_info": {
   "codemirror_mode": {
    "name": "ipython",
    "version": 3
   },
   "file_extension": ".py",
   "mimetype": "text/x-python",
   "name": "python",
   "nbconvert_exporter": "python",
   "pygments_lexer": "ipython3",
   "version": "3.7.2"
  }
 },
 "nbformat": 4,
 "nbformat_minor": 4
}
